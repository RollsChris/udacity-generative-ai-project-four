{
 "cells": [
  {
   "cell_type": "markdown",
   "id": "a108af04",
   "metadata": {},
   "source": [
    "This is a starter notebook for the project, you'll have to import the libraries you'll need, you can find a list of the ones available in this workspace in the requirements.txt file in this workspace. "
   ]
  },
  {
   "cell_type": "markdown",
   "id": "abe4bcc0",
   "metadata": {},
   "source": [
    "# Step 1: Setting Up the Python Application\n",
    "Initialize a Python Project: \n",
    "- [*] Create a new Python project\n",
    "    git\n",
    "- [*] Setting up a virtual environment and \n",
    "    Conda\n",
    "- [*] Installing necessary packages like LangChain, \n",
    "    requirements.yml\n",
    "- [*] A suitable LLM library (e.g., OpenAI's GPT)\n",
    "    OpenAi\n",
    "- [*] A vector database package compatible with Python (e.g., ChromaDB or LanceDB). \n",
    "    ChromaDB"
   ]
  },
  {
   "cell_type": "code",
   "execution_count": 6,
   "id": "6554fd4c",
   "metadata": {},
   "outputs": [],
   "source": [
    "from langchain.llms import OpenAI\n",
    "from langchain_openai import ChatOpenAI\n",
    "from langchain.embeddings.openai import OpenAIEmbeddings\n",
    "from langchain_core.messages import HumanMessage, AIMessage\n",
    "from langchain.memory import ChatMessageHistory\n",
    "from langchain_core.prompts import ChatPromptTemplate, MessagesPlaceholder, PromptTemplate\n",
    "import chromadb\n",
    "from langchain.vectorstores import Chroma\n",
    "from langchain.document_loaders import TextLoader\n",
    "from langchain.text_splitter import CharacterTextSplitter, RecursiveCharacterTextSplitter\n",
    "from langchain_core.output_parsers import StrOutputParser\n",
    "from langchain import hub\n",
    "from langchain_core.runnables.passthrough import RunnablePassthrough\n",
    "\n",
    "from dotenv import load_dotenv\n",
    "import os\n",
    "load_dotenv()  # take environment variables from .env.\n",
    "\n",
    "OPENAI_API_KEY = os.getenv('OPENAI_API_KEY')\n",
    "MODEL_NAME = \"gpt-3.5-turbo\"\n",
    "TEMPERATURE = 0.1"
   ]
  },
  {
   "cell_type": "markdown",
   "id": "63d73a3b",
   "metadata": {},
   "source": [
    "# Step 2: Generating Real Estate Listings\n",
    "- [*] Generate real estate listings using a Large Language Model.\n",
    "- [*] Generate at least 10 listings This can involve creating prompts for the LLM to produce descriptions of various properties"
   ]
  },
  {
   "cell_type": "markdown",
   "id": "319c8e90",
   "metadata": {},
   "source": [
    "## Create Prompt"
   ]
  },
  {
   "cell_type": "code",
   "execution_count": 7,
   "id": "ab741e96",
   "metadata": {},
   "outputs": [
    {
     "name": "stdout",
     "output_type": "stream",
     "text": [
      "text='\\nGenerate 15 real estate listings seperated by (###) for COVENTRY, ENGLAND.\\nYour answer must be in the format of the following example:\\n\\n###\\nNeighborhood: Green Oaks\\nPrice: $800,000\\nBedrooms: 3\\nBathrooms: 2\\nHouse Size: 2,000 sqft\\nDescription: Welcome to this eco-friendly oasis nestled in the heart of Green Oaks. This charming 3-bedroom, 2-bathroom home boasts energy-efficient features such as solar panels and a well-insulated structure. Natural light floods the living spaces, highlighting the beautiful hardwood floors and eco-conscious finishes. The open-concept kitchen and dining area lead to a spacious backyard with a vegetable garden, perfect for the eco-conscious family. Embrace sustainable living without compromising on style in this Green Oaks gem.\\nNeighborhood Description: Green Oaks is a close-knit, environmentally-conscious community with access to organic grocery stores, community gardens, and bike paths. Take a stroll through the nearby Green Oaks Park or grab a cup of coffee at the cozy Green Bean Cafe. With easy access to public transportation and bike lanes, commuting is a breeze.\\n###\\n\\n'\n"
     ]
    }
   ],
   "source": [
    "request_listing_examples = \"\"\"\n",
    "Generate {number} real estate listings seperated by (###) for {location}.\n",
    "Your answer must be in the format of the following example:\n",
    "\n",
    "###\n",
    "Neighborhood: Green Oaks\n",
    "Price: $800,000\n",
    "Bedrooms: 3\n",
    "Bathrooms: 2\n",
    "House Size: 2,000 sqft\n",
    "Description: Welcome to this eco-friendly oasis nestled in the heart of Green Oaks. This charming 3-bedroom, 2-bathroom home boasts energy-efficient features such as solar panels and a well-insulated structure. Natural light floods the living spaces, highlighting the beautiful hardwood floors and eco-conscious finishes. The open-concept kitchen and dining area lead to a spacious backyard with a vegetable garden, perfect for the eco-conscious family. Embrace sustainable living without compromising on style in this Green Oaks gem.\n",
    "Neighborhood Description: Green Oaks is a close-knit, environmentally-conscious community with access to organic grocery stores, community gardens, and bike paths. Take a stroll through the nearby Green Oaks Park or grab a cup of coffee at the cozy Green Bean Cafe. With easy access to public transportation and bike lanes, commuting is a breeze.\n",
    "###\n",
    "\n",
    "\"\"\"\n",
    "\n",
    "prompt = PromptTemplate(input_variables=[\"number\", \"location\"], template=request_listing_examples)\n",
    "print(prompt.format_prompt(number = 15 , location = \"COVENTRY, ENGLAND\"))"
   ]
  },
  {
   "cell_type": "markdown",
   "id": "43c7505f",
   "metadata": {},
   "source": [
    "## Call LLM"
   ]
  },
  {
   "cell_type": "code",
   "execution_count": 8,
   "id": "73465713",
   "metadata": {},
   "outputs": [],
   "source": [
    "llm = ChatOpenAI(\n",
    "    model_name=MODEL_NAME,\n",
    "    temperature=TEMPERATURE,\n",
    "    max_tokens = 4096,\n",
    "    openai_api_key=OPENAI_API_KEY\n",
    ")\n",
    "\n",
    "chain = prompt | llm | StrOutputParser()\n",
    "\n",
    "# Request Listing\n",
    "response = chain.invoke(\n",
    "    {\n",
    "        \"number\": 15, \n",
    "        \"location\":\"COVENTRY, ENGLAND\"\n",
    "    }\n",
    ")\n"
   ]
  },
  {
   "cell_type": "markdown",
   "id": "f1850400",
   "metadata": {},
   "source": [
    "## Save Listings to file"
   ]
  },
  {
   "cell_type": "code",
   "execution_count": 9,
   "id": "40b1c25c",
   "metadata": {},
   "outputs": [],
   "source": [
    "\n",
    "# Write to file\n",
    "f = open(\"listings.txt\", \"a\")\n",
    "f.writelines(response)\n",
    "f.close()"
   ]
  },
  {
   "cell_type": "markdown",
   "id": "8275ebe0",
   "metadata": {},
   "source": [
    "# Step 3: Storing Listings in a Vector Database\n",
    "- [*] Vector Database Setup: Initialize and configure ChromaDB or a similar vector database to store real estate listings.\n",
    "- [*] Generating and Storing Embeddings: Convert the LLM-generated listings into suitable embeddings that capture the semantic content of each listing, and store these embeddings in the vector database."
   ]
  },
  {
   "cell_type": "code",
   "execution_count": 10,
   "id": "3882e348",
   "metadata": {},
   "outputs": [
    {
     "name": "stderr",
     "output_type": "stream",
     "text": [
      "/opt/conda/lib/python3.11/site-packages/langchain_core/_api/deprecation.py:119: LangChainDeprecationWarning: The class `OpenAIEmbeddings` was deprecated in LangChain 0.0.9 and will be removed in 0.2.0. An updated version of the class exists in the langchain-openai package and should be used instead. To use it run `pip install -U langchain-openai` and import as `from langchain_openai import OpenAIEmbeddings`.\n",
      "  warn_deprecated(\n"
     ]
    }
   ],
   "source": [
    "loader = TextLoader(file_path='listings.txt')\n",
    "docs = loader.load()\n",
    "splitter = RecursiveCharacterTextSplitter(chunk_size=800, chunk_overlap=100)\n",
    "split_docs = splitter.split_documents(docs)\n",
    "\n",
    "embeddings = OpenAIEmbeddings(openai_api_key=OPENAI_API_KEY)\n",
    "db = Chroma.from_documents(split_docs, embeddings)\n",
    "retriever = db.as_retriever()"
   ]
  },
  {
   "cell_type": "markdown",
   "id": "9f291d27",
   "metadata": {},
   "source": [
    "## Test Symantic Query"
   ]
  },
  {
   "cell_type": "code",
   "execution_count": 11,
   "id": "66be9adc",
   "metadata": {},
   "outputs": [
    {
     "name": "stdout",
     "output_type": "stream",
     "text": [
      "4\n",
      "###\n",
      "Neighborhood: Cheylesmore\n",
      "Price: $550,000\n",
      "Bedrooms: 3\n",
      "Bathrooms: 2\n",
      "House Size: 1,600 sqft\n",
      "Description: This charming 3-bedroom bungalow in Cheylesmore offers single-level living with modern updates. The open-concept living and dining area features hardwood floors and a cozy fireplace, while the updated kitchen boasts granite countertops and stainless steel appliances. The master suite includes a walk-in closet and en-suite bathroom, while the landscaped backyard is perfect for outdoor entertaining. With easy access to shops, schools, and parks, this bungalow is a must-see.\n"
     ]
    }
   ],
   "source": [
    "query = \"three-bedroom\"\n",
    "docs = db.similarity_search(query)\n",
    "print(len(docs))\n",
    "print(docs[0].page_content)"
   ]
  },
  {
   "cell_type": "markdown",
   "id": "7c3181eb",
   "metadata": {},
   "source": [
    "# Step 4: Building the User Preference Interface\n",
    "- [*] Collect buyer preferences, such as the number of bedrooms, bathrooms, location, and other specific requirements from a set of questions or telling the buyer to enter their preferences in natural language. \n",
    "- [*] You can hard-code the buyer preferences in questions and answers, or collect them interactively however you'd like, example:\n"
   ]
  },
  {
   "cell_type": "code",
   "execution_count": 12,
   "id": "2769488c",
   "metadata": {},
   "outputs": [],
   "source": [
    "questions = [   \n",
    "    \"How big do you want your house to be?\" \n",
    "    \"What are 3 most important things for you in choosing this property?\", \n",
    "    \"Which amenities would you like?\", \n",
    "    \"Which transportation options are important to you?\",\n",
    "    \"How urban do you want your neighborhood to be?\",   \n",
    "]\n",
    "answers = [\n",
    "    \"A comfortable three-bedroom house with a spacious kitchen and a cozy living room.\",\n",
    "    \"A quiet neighborhood, good local schools, and convenient shopping options.\",\n",
    "    \"A backyard for gardening, a two-car garage, and a modern, energy-efficient heating system.\",\n",
    "    \"Easy access to a reliable bus line, proximity to a major highway, and bike-friendly roads.\",\n",
    "    \"A balance between suburban tranquility and access to urban amenities like restaurants and theaters.\"\n",
    "]"
   ]
  },
  {
   "cell_type": "markdown",
   "id": "93e91076",
   "metadata": {},
   "source": [
    "# Step 5: Searching Based on Preferences\n",
    "- [*] Semantic Search Implementation: Use the structured buyer preferences to perform a semantic search on the vector database, retrieving listings that most closely match the user's requirements.\n",
    "- [*] Listing Retrieval Logic: Fine-tune the retrieval algorithm to ensure that the most relevant listings are selected based on the semantic closeness to the buyer’s preferences."
   ]
  },
  {
   "cell_type": "code",
   "execution_count": 14,
   "id": "f303dde4",
   "metadata": {},
   "outputs": [],
   "source": [
    "docs = []\n",
    "for answer in answers:\n",
    "    docs.extend(db.similarity_search(answer))"
   ]
  },
  {
   "cell_type": "markdown",
   "id": "de98ffdc",
   "metadata": {},
   "source": [
    "# Step 6: Personalizing Listing Descriptions\n",
    "- [ ] LLM Augmentation: For each retrieved listing, use the LLM to augment the description, tailoring it to resonate with the buyer’s specific preferences. This involves subtly emphasizing aspects of the property that align with what the buyer is looking for.\n",
    "- [ ] Maintaining Factual Integrity: Ensure that the augmentation process enhances the appeal of the listing without altering factual information.\n"
   ]
  },
  {
   "cell_type": "code",
   "execution_count": 28,
   "id": "47fc316c",
   "metadata": {},
   "outputs": [
    {
     "data": {
      "text/plain": [
       "'System: \\n                You are a professional real estate agent.\\n                Answer all questions to the best of your ability using accurate data.\\n                For each  listing in the Context, augment the description, tailoring it to resonate with the buyer’s specific preferences. \\n                This involves subtly emphasizing aspects of the property that align with what the buyer is looking for\\n                Context :Bannanas\\n            \\nHuman: BOOOO\\nHuman: Apples'"
      ]
     },
     "execution_count": 28,
     "metadata": {},
     "output_type": "execute_result"
    }
   ],
   "source": [
    "prompt = ChatPromptTemplate.from_messages(\n",
    "    [\n",
    "        (\n",
    "            \"system\",\n",
    "            \"\"\"\n",
    "                You are a professional real estate agent.\n",
    "                Answer all questions to the best of your ability using accurate data.\n",
    "                For each  listing in the Context, augment the description, tailoring it to resonate with the buyer’s specific preferences. \n",
    "                This involves subtly emphasizing aspects of the property that align with what the buyer is looking for\n",
    "                Context :{context}\n",
    "            \"\"\",\n",
    "        ),\n",
    "        MessagesPlaceholder(variable_name=\"messages\"),\n",
    "        (\"user\", \"{question}\")\n",
    "    ]\n",
    ")\n",
    "\n",
    "prompt.format(context=\"Bannanas\", question=\"Apples\" , messages = [(\"user\",\"BOOOO\")])"
   ]
  },
  {
   "cell_type": "code",
   "execution_count": 30,
   "id": "2f52fe11",
   "metadata": {},
   "outputs": [],
   "source": [
    "def format_docs(docs):\n",
    "    return \"\\n\\n\".join(doc.page_content for doc in docs)\n",
    "\n",
    "chat_history = ChatMessageHistory()\n",
    "\n",
    "for q,a in zip(questions,answers):\n",
    "    chat_history.add_ai_message(q)\n",
    "    chat_history.add_user_message(a)\n",
    "\n",
    "rag_chain = (\n",
    "    {\"context\": retriever | format_docs, \"question\": RunnablePassthrough(), \"messages\": lambda x: chat_history.messages}\n",
    "    | prompt\n",
    "    | llm\n",
    "    | StrOutputParser()\n",
    ")"
   ]
  },
  {
   "cell_type": "code",
   "execution_count": 33,
   "id": "22bcd5fa",
   "metadata": {},
   "outputs": [],
   "source": [
    "response = rag_chain.invoke(\"Get tailord list\")"
   ]
  },
  {
   "cell_type": "code",
   "execution_count": 39,
   "id": "4e27f56f",
   "metadata": {},
   "outputs": [
    {
     "name": "stdout",
     "output_type": "stream",
     "text": [
      "For your consideration:\n",
      "\n",
      "1. **Property in Earlsdon**\n",
      "   - **Neighborhood:** Earlsdon\n",
      "   - **Price:** $700,000\n",
      "   - **Bedrooms:** 4\n",
      "   - **Bathrooms:** 3\n",
      "   - **House Size:** 2,500 sqft\n",
      "   - **Description:** Step into this charming 4-bedroom Victorian home in Earlsdon, where historic charm meets modern updates. With a spacious kitchen perfect for your culinary adventures, a cozy living room for relaxation, and a beautifully landscaped garden for your gardening aspirations, this property offers the comfort and space you desire. Enjoy the convenience of nearby shops and cafes, along with easy access to public transportation for your daily commute.\n",
      "\n",
      "2. **Property in Cheylesmore**\n",
      "   - **Neighborhood:** Cheylesmore\n",
      "   - **Price:** $550,000\n",
      "   - **Bedrooms:** 3\n",
      "   - **Bathrooms:** 2\n",
      "   - **House Size:** 1,600 sqft\n",
      "   - **Description:** Nestled in the heart of Cheylesmore, this charming 3-bedroom bungalow offers single-level living with modern updates. The spacious kitchen with granite countertops is perfect for your culinary creations, while the cozy fireplace in the open-concept living area sets the scene for relaxing evenings. With a landscaped backyard for outdoor entertaining and easy access to shops and parks, this property checks all your boxes for a comfortable lifestyle.\n",
      "\n",
      "3. **Property in Foleshill**\n",
      "   - **Neighborhood:** Foleshill\n",
      "   - **Price:** $450,000\n",
      "   - **Bedrooms:** 2\n",
      "   - **Bathrooms:** 1\n",
      "   - **House Size:** 1,000 sqft\n",
      "   - **Description:** Discover tranquility in this cozy 2-bedroom cottage in Foleshill, offering a peaceful retreat with modern updates. The open-concept living area with hardwood floors is ideal for relaxation, while the modern kitchen with granite countertops is a chef's delight. Enjoy the landscaped garden for outdoor relaxation and the convenience of nearby shops and parks. This hidden gem provides the comfort and serenity you seek in a home.\n"
     ]
    }
   ],
   "source": [
    "print(response)"
   ]
  },
  {
   "cell_type": "markdown",
   "id": "4bee306b",
   "metadata": {},
   "source": [
    "# Step 7: Deliverables and Testing\n",
    "- [ ] Test your \"HomeMatch\" application and make sure it meets all of the requirements in the rubric(opens in a new tab). Your project code will be run when it's assessed. Enter different \"buyer preferences\" and ensure it works.\n",
    "- [ ] Jupyter Notebook/Python Program: Compile the application code in a Jupyter notebook or a standalone Python program. Ensure the code is well-commented and logically structured.\n",
    "- [ ] Example Outputs: Include example outputs showcasing how user preferences are processed and how the application generates personalized listing descriptions. You can include these in comments in your application or in a Jupyter notebook that's saved with outputs."
   ]
  },
  {
   "cell_type": "markdown",
   "id": "7f6ca171",
   "metadata": {},
   "source": [
    "You can see from the results above, from the users questions we have returned a list of suitable properties. Then we tailord the description to the users answers to the questions.\n",
    "A specific example from above is:\n",
    "- `With a spacious kitchen perfect for your culinary adventures, a cozy living room for relaxation, and a beautifully landscaped garden for your gardening aspirations`\n",
    "\n",
    "Which matches the users preferences:\n",
    "- `A comfortable three-bedroom house with a spacious kitchen and a cozy living room.`\n",
    "- `A backyard for gardening`"
   ]
  },
  {
   "cell_type": "markdown",
   "id": "f8f05d0b",
   "metadata": {},
   "source": [
    "# Step 8: Project Submission\n",
    "- [ ] Generated Listings: Include a file that contains your synthetically generated real estate listings. Name this file \"listings\"\n",
    "- [ ] Project Documentation: Include a readme file or an accompanying document explaining the functionality, how to run the code, and any prerequisites or dependencies.\n",
    "- [ ] Code Submission: Submit the Jupyter Notebook or Python program on the \"Project Submission Page\" that follows the workspace page."
   ]
  },
  {
   "cell_type": "code",
   "execution_count": null,
   "id": "15e039a4",
   "metadata": {},
   "outputs": [],
   "source": []
  },
  {
   "cell_type": "markdown",
   "id": "c663dcff",
   "metadata": {},
   "source": []
  },
  {
   "cell_type": "markdown",
   "id": "b29e05e7",
   "metadata": {},
   "source": []
  }
 ],
 "metadata": {
  "kernelspec": {
   "display_name": "Python 3 (ipykernel)",
   "language": "python",
   "name": "python3"
  },
  "language_info": {
   "codemirror_mode": {
    "name": "ipython",
    "version": 3
   },
   "file_extension": ".py",
   "mimetype": "text/x-python",
   "name": "python",
   "nbconvert_exporter": "python",
   "pygments_lexer": "ipython3",
   "version": "3.11.7"
  }
 },
 "nbformat": 4,
 "nbformat_minor": 5
}
