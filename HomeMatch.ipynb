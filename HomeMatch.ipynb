{
 "cells": [
  {
   "cell_type": "markdown",
   "id": "a108af04",
   "metadata": {},
   "source": [
    "This is a starter notebook for the project, you'll have to import the libraries you'll need, you can find a list of the ones available in this workspace in the requirements.txt file in this workspace. "
   ]
  },
  {
   "cell_type": "markdown",
   "id": "abe4bcc0",
   "metadata": {},
   "source": [
    "# Step 1: Setting Up the Python Application\n",
    "Initialize a Python Project: \n",
    "- [*] Create a new Python project\n",
    "    git\n",
    "- [*] Setting up a virtual environment and \n",
    "    Conda\n",
    "- [*] Installing necessary packages like LangChain, \n",
    "    requirements.yml\n",
    "- [*] A suitable LLM library (e.g., OpenAI's GPT)\n",
    "    OpenAi\n",
    "- [*] A vector database package compatible with Python (e.g., ChromaDB or LanceDB). \n",
    "    ChromaDB"
   ]
  },
  {
   "cell_type": "code",
   "execution_count": 1,
   "id": "6554fd4c",
   "metadata": {},
   "outputs": [
    {
     "data": {
      "text/plain": [
       "True"
      ]
     },
     "execution_count": 1,
     "metadata": {},
     "output_type": "execute_result"
    }
   ],
   "source": [
    "from langchain.llms import OpenAI\n",
    "from langchain_openai import ChatOpenAI\n",
    "from langchain.embeddings.openai import OpenAIEmbeddings\n",
    "from langchain_core.messages import HumanMessage, AIMessage\n",
    "from langchain.memory import ChatMessageHistory\n",
    "from langchain_core.prompts import ChatPromptTemplate, MessagesPlaceholder\n",
    "import chromadb\n",
    "from langchain.vectorstores import Chroma\n",
    "from langchain.document_loaders import TextLoader\n",
    "from langchain.text_splitter import CharacterTextSplitter\n",
    "\n",
    "\n",
    "from dotenv import load_dotenv\n",
    "import os\n",
    "load_dotenv()  # take environment variables from .env."
   ]
  },
  {
   "cell_type": "markdown",
   "id": "63d73a3b",
   "metadata": {},
   "source": [
    "# Step 2: Generating Real Estate Listings\n",
    "- [ ] Generate real estate listings using a Large Language Model.\n",
    "- [ ] Generate at least 10 listings This can involve creating prompts for the LLM to produce descriptions of various properties"
   ]
  },
  {
   "cell_type": "code",
   "execution_count": 2,
   "id": "8970e065",
   "metadata": {},
   "outputs": [
    {
     "name": "stdout",
     "output_type": "stream",
     "text": [
      "\n",
      "Generate 15 real estate listings seperated by (###) for COVENTRY, ENGLAND.\n",
      "Your answer must in the format of the following example:\n",
      "\n",
      "###\n",
      "Neighborhood: Green Oaks\n",
      "Price: $800,000\n",
      "Bedrooms: 3\n",
      "Bathrooms: 2\n",
      "House Size: 2,000 sqft\n",
      "Description: Welcome to this eco-friendly oasis nestled in the heart of Green Oaks. This charming 3-bedroom, 2-bathroom home boasts energy-efficient features such as solar panels and a well-insulated structure. Natural light floods the living spaces, highlighting the beautiful hardwood floors and eco-conscious finishes. The open-concept kitchen and dining area lead to a spacious backyard with a vegetable garden, perfect for the eco-conscious family. Embrace sustainable living without compromising on style in this Green Oaks gem.\n",
      "Neighborhood Description: Green Oaks is a close-knit, environmentally-conscious community with access to organic grocery stores, community gardens, and bike paths. Take a stroll through the nearby Green Oaks Park or grab a cup of coffee at the cozy Green Bean Cafe. With easy access to public transportation and bike lanes, commuting is a breeze.\n",
      "###\n",
      "\n",
      "\n"
     ]
    }
   ],
   "source": [
    "\n",
    "request_listing_examples = f\"\"\"\n",
    "Generate 15 real estate listings seperated by (###) for COVENTRY, ENGLAND.\n",
    "Your answer must in the format of the following example:\n",
    "\n",
    "###\n",
    "Neighborhood: Green Oaks\n",
    "Price: $800,000\n",
    "Bedrooms: 3\n",
    "Bathrooms: 2\n",
    "House Size: 2,000 sqft\n",
    "Description: Welcome to this eco-friendly oasis nestled in the heart of Green Oaks. This charming 3-bedroom, 2-bathroom home boasts energy-efficient features such as solar panels and a well-insulated structure. Natural light floods the living spaces, highlighting the beautiful hardwood floors and eco-conscious finishes. The open-concept kitchen and dining area lead to a spacious backyard with a vegetable garden, perfect for the eco-conscious family. Embrace sustainable living without compromising on style in this Green Oaks gem.\n",
    "Neighborhood Description: Green Oaks is a close-knit, environmentally-conscious community with access to organic grocery stores, community gardens, and bike paths. Take a stroll through the nearby Green Oaks Park or grab a cup of coffee at the cozy Green Bean Cafe. With easy access to public transportation and bike lanes, commuting is a breeze.\n",
    "###\n",
    "\n",
    "\"\"\"\n",
    "\n",
    "print(request_listing_examples)"
   ]
  },
  {
   "cell_type": "code",
   "execution_count": 6,
   "id": "73465713",
   "metadata": {},
   "outputs": [
    {
     "name": "stdout",
     "output_type": "stream",
     "text": [
      "[HumanMessage(content='\\nGenerate 15 real estate listings seperated by (###) for COVENTRY, ENGLAND.\\nYour answer must in the format of the following example:\\n\\n###\\nNeighborhood: Green Oaks\\nPrice: $800,000\\nBedrooms: 3\\nBathrooms: 2\\nHouse Size: 2,000 sqft\\nDescription: Welcome to this eco-friendly oasis nestled in the heart of Green Oaks. This charming 3-bedroom, 2-bathroom home boasts energy-efficient features such as solar panels and a well-insulated structure. Natural light floods the living spaces, highlighting the beautiful hardwood floors and eco-conscious finishes. The open-concept kitchen and dining area lead to a spacious backyard with a vegetable garden, perfect for the eco-conscious family. Embrace sustainable living without compromising on style in this Green Oaks gem.\\nNeighborhood Description: Green Oaks is a close-knit, environmentally-conscious community with access to organic grocery stores, community gardens, and bike paths. Take a stroll through the nearby Green Oaks Park or grab a cup of coffee at the cozy Green Bean Cafe. With easy access to public transportation and bike lanes, commuting is a breeze.\\n###\\n\\n'), AIMessage(content='###\\nNeighborhood: Earlsdon\\nPrice: $350,000\\nBedrooms: 2\\nBathrooms: 1\\nHouse Size: 1,200 sqft\\nDescription: Charming 2-bedroom home in the desirable neighborhood of Earlsdon. This property features a cozy living room, updated kitchen, and a lovely backyard perfect for relaxing or entertaining. Close to local shops, restaurants, and parks, this home offers a convenient and comfortable lifestyle in Coventry.\\nNeighborhood Description: Earlsdon is a vibrant community known for its independent shops, cafes, and friendly atmosphere. Residents enjoy easy access to public transportation, schools, and green spaces, making it an ideal location for families and professionals alike.\\n###\\n\\n###\\nNeighborhood: Styvechale\\nPrice: $500,000\\nBedrooms: 4\\nBathrooms: 3\\nHouse Size: 2,500 sqft\\nDescription: Spacious 4-bedroom family home in the sought-after neighborhood of Styvechale. This property boasts a modern kitchen, elegant living spaces, and a beautifully landscaped garden. With ample room for a growing family and close proximity to schools, parks, and amenities, this home offers both comfort and convenience.\\nNeighborhood Description: Styvechale is a prestigious area known for its tree-lined streets, upscale homes, and sense of community. Residents enjoy easy access to shopping centers, restaurants, and recreational facilities, making it a desirable place to live in Coventry.\\n###\\n\\n###\\nNeighborhood: Cheylesmore\\nPrice: $280,000\\nBedrooms: 3\\nBathrooms: 2\\nHouse Size: 1,800 sqft\\nDescription: Lovely 3-bedroom home in the quiet neighborhood of Cheylesmore. This property features a spacious living room, updated bathrooms, and a private backyard. With easy access to schools, parks, and shopping centers, this home is perfect for families looking for a peaceful retreat in Coventry.\\nNeighborhood Description: Cheylesmore is a family-friendly area with a mix of residential streets and green spaces. Residents appreciate the tranquil atmosphere, local amenities, and proximity to major roadways, making it a convenient location for commuters and families.\\n###\\n\\n###\\nNeighborhood: Coundon\\nPrice: $320,000\\nBedrooms: 3\\nBathrooms: 2\\nHouse Size: 1,600 sqft\\nDescription: Cozy 3-bedroom home in the desirable neighborhood of Coundon. This property offers a bright and airy living space, a modern kitchen, and a charming backyard. With nearby schools, parks, and shops, this home provides a comfortable and convenient lifestyle in Coventry.\\nNeighborhood Description: Coundon is a popular residential area known for its friendly community vibe and local amenities. Residents enjoy easy access to green spaces, schools, and public transportation, making it an ideal location for families and professionals seeking a peaceful setting.\\n###\\n\\n###\\nNeighborhood: Whoberley\\nPrice: $380,000\\nBedrooms: 4\\nBathrooms: 2\\nHouse Size: 2,200 sqft\\nDescription: Spacious 4-bedroom family home in the quiet neighborhood of Whoberley. This property features a large living room, updated bathrooms, and a generous backyard. With easy access to schools, parks, and shopping centers, this home offers a comfortable and convenient lifestyle in Coventry.\\nNeighborhood Description: Whoberley is a peaceful residential area with a mix of family homes and green spaces. Residents appreciate the tranquil surroundings, local amenities, and proximity to major roadways, making it a desirable location for families and professionals.\\n###\\n\\n###\\nNeighborhood: Allesley\\nPrice: $450,000\\nBedrooms: 3\\nBathrooms: 2\\nHouse Size: 2,000 sqft\\nDescription: Beautiful 3-bedroom home in the picturesque neighborhood of Allesley. This property boasts a modern kitchen, spacious living areas, and a landscaped garden. With nearby schools, parks, and amenities, this home offers a peaceful and convenient lifestyle in Coventry.\\nNeighborhood Description: Allesley is a charming area known for its scenic views, historic architecture, and community events. Residents enjoy easy access to local shops, restaurants, and green spaces, making it an ideal location for those seeking a tranquil setting with urban conveniences.\\n###\\n\\n###\\nNeighborhood: Tile Hill\\nPrice: $300,000\\nBedrooms: 2\\nBathrooms: 1\\nHouse Size: 1,400 sqft\\nDescription: Cozy 2-bedroom home in the quiet neighborhood of Tile Hill. This property features a comfortable living room, updated kitchen, and a private backyard. With nearby schools, parks, and shopping centers, this home provides a peaceful and convenient lifestyle in Coventry.\\nNeighborhood Description: Tile Hill is a residential area with a mix of housing options and green spaces. Residents appreciate the laid-back atmosphere, local amenities, and proximity to major roadways, making it a desirable location for families and professionals seeking a relaxed environment.\\n###\\n\\n###\\nNeighborhood: Canley\\nPrice: $320,000\\nBedrooms: 3\\nBathrooms: 2\\nHouse Size: 1,600 sqft\\nDescription: Charming 3-bedroom home in the family-friendly neighborhood of Canley. This property offers a cozy living room, updated bathrooms, and a spacious backyard. With easy access to schools, parks, and amenities, this home provides a comfortable and convenient lifestyle in Coventry.\\nNeighborhood Description: Canley is a welcoming community with a mix of residential streets and green spaces. Residents enjoy the peaceful surroundings, local facilities, and proximity to public transportation, making it an ideal location for families and professionals seeking a balanced lifestyle.\\n###\\n\\n###\\nNeighborhood: Radford\\nPrice: $280,000\\nBedrooms: 2\\nBathrooms: 1\\nHouse Size: 1,200 sqft\\nDescription: Lovely 2-bedroom home in the quiet neighborhood of Radford. This property features a bright living room, updated kitchen, and a private garden. With nearby schools, parks, and shopping centers, this home offers a peaceful and convenient lifestyle in Coventry.\\nNeighborhood Description: Radford is a residential area known for its friendly atmosphere, local amenities, and green spaces. Residents appreciate the sense of community, easy access to facilities, and proximity to major roadways, making it a desirable location for families and professionals.\\n###\\n\\n###\\nNeighborhood: Foleshill\\nPrice: $250,000\\nBedrooms: 3\\nBathrooms: 1\\nHouse Size: 1,500 sqft\\nDescription: Cozy 3-bedroom home in the quiet neighborhood of Foleshill. This property offers a comfortable living space, updated bathroom, and a private backyard. With nearby schools, parks, and shopping centers, this home provides a peaceful and convenient lifestyle in Coventry.\\nNeighborhood Description: Foleshill is a residential area with a mix of housing options and green spaces. Residents enjoy the laid-back atmosphere, local amenities, and proximity to major roadways, making it a desirable location for families and professionals seeking a relaxed environment.\\n###\\n\\n###\\nNeighborhood: Hillfields\\nPrice: $200,000\\nBedrooms: 2\\nBathrooms: 1\\nHouse Size: 1,000 sqft\\nDescription: Charming 2-bedroom home in the up-and-coming neighborhood of Hillfields. This property features a cozy living room, updated kitchen, and a small garden. With nearby schools, parks, and amenities, this home offers a comfortable and affordable lifestyle in Coventry.\\nNeighborhood Description: Hillfields is a diverse community with a mix of residential properties and cultural attractions. Residents appreciate the vibrant atmosphere, local facilities, and proximity to public transportation, making it an ideal location for first-time buyers and young professionals.\\n###\\n\\n###\\nNeighborhood: Spon End\\nPrice: $220,000\\nBedrooms: 2\\nBathrooms: 1\\nHouse Size: 1,100 sqft\\nDescription: Lovely 2-bedroom home in the historic neighborhood of Spon End. This property offers a cozy living space, updated bathroom, and a small backyard. With nearby schools, parks, and shopping centers, this home provides a peaceful and convenient lifestyle in Coventry.\\nNeighborhood Description: Spon End is a charming area known for its historic architecture, local amenities, and community events. Residents enjoy the tranquil surroundings, cultural attractions, and proximity to major roadways, making it a desirable location for families and professionals seeking a unique setting.\\n###\\n\\n###\\nNeighborhood: Wyken\\nPrice: $260,000\\nBedrooms: 3\\nBathrooms: 2\\nHouse Size: 1,700 sqft\\nDescription: Cozy 3-bedroom home in the quiet neighborhood of Wyken. This property features a comfortable living space, updated bathrooms, and a private garden. With nearby schools, parks, and amenities, this home provides a peaceful and convenient lifestyle in Coventry.\\nNeighborhood Description: Wyken is a residential area with a mix of housing options and green spaces. Residents appreciate the laid-back atmosphere, local amenities, and proximity to major roadways, making it a desirable location for families and professionals seeking a relaxed environment.\\n###')]\n"
     ]
    }
   ],
   "source": [
    "OPENAI_API_KEY = os.getenv('OPENAI_API_KEY')\n",
    "MODEL_NAME = \"gpt-3.5-turbo\"\n",
    "TEMPERATURE = 0.1\n",
    "llm = ChatOpenAI(\n",
    "    model_name=MODEL_NAME,\n",
    "    temperature=TEMPERATURE,\n",
    "    max_tokens = 4096,\n",
    "    openai_api_key=OPENAI_API_KEY\n",
    ")\n",
    "chat_history = ChatMessageHistory()\n",
    "\n",
    "\n",
    "prompt = ChatPromptTemplate.from_messages(\n",
    "    [\n",
    "        (\n",
    "            \"system\",\n",
    "            \"You are a professional real estate agent. Answer all questions to the best of your ability using accurate data\",\n",
    "        ),\n",
    "        MessagesPlaceholder(variable_name=\"messages\"),\n",
    "    ]\n",
    ")\n",
    "\n",
    "chain = prompt | llm\n",
    "\n",
    "\n",
    "chat_history.add_user_message(request_listing_examples)\n",
    "# print(chat_history.messages)\n",
    "# response = chain.invoke({\"messages\":chat_history.messages})\n",
    "# chat_history.add_ai_message(response)\n",
    "\n",
    "response = chain.invoke(\n",
    "    {\n",
    "        # TODO: solve mismatch with HumanMessageversions\n",
    "        \"messages\": chat_history.messages,\n",
    "    }\n",
    ")\n",
    "chat_history.add_ai_message(response.content)\n",
    "f = open(\"listings.txt\", \"a\")\n",
    "f.write(response.content)\n",
    "f.close()\n",
    "print(chat_history.messages)"
   ]
  },
  {
   "cell_type": "code",
   "execution_count": 7,
   "id": "8c5d0ed1",
   "metadata": {},
   "outputs": [],
   "source": [
    "# f = open(\"listings.txt\", \"r\")\n",
    "# lines = f.read().split(\"###\")\n",
    "# print(lines[0])\n",
    "# print(len(lines))\n",
    "\n",
    "\n"
   ]
  },
  {
   "cell_type": "markdown",
   "id": "8275ebe0",
   "metadata": {},
   "source": [
    "# Step 3: Storing Listings in a Vector Database\n",
    "- [ ] Vector Database Setup: Initialize and configure ChromaDB or a similar vector database to store real estate listings.\n",
    "- [ ] Generating and Storing Embeddings: Convert the LLM-generated listings into suitable embeddings that capture the semantic content of each listing, and store these embeddings in the vector database."
   ]
  },
  {
   "cell_type": "code",
   "execution_count": 8,
   "id": "3882e348",
   "metadata": {},
   "outputs": [
    {
     "name": "stderr",
     "output_type": "stream",
     "text": [
      "/opt/conda/lib/python3.11/site-packages/langchain_core/_api/deprecation.py:119: LangChainDeprecationWarning: The class `OpenAIEmbeddings` was deprecated in LangChain 0.0.9 and will be removed in 0.2.0. An updated version of the class exists in the langchain-openai package and should be used instead. To use it run `pip install -U langchain-openai` and import as `from langchain_openai import OpenAIEmbeddings`.\n",
      "  warn_deprecated(\n"
     ]
    }
   ],
   "source": [
    "loader = TextLoader(file_path='listings.txt')\n",
    "docs = loader.load()\n",
    "\n",
    "splitter = CharacterTextSplitter(chunk_size=800, chunk_overlap=100)\n",
    "split_docs = splitter.split_documents(docs)\n",
    "\n",
    "embeddings = OpenAIEmbeddings(openai_api_key=OPENAI_API_KEY)\n",
    "db = Chroma.from_documents(split_docs, embeddings)\n",
    "\n",
    "\n"
   ]
  },
  {
   "cell_type": "code",
   "execution_count": 15,
   "id": "66be9adc",
   "metadata": {},
   "outputs": [
    {
     "name": "stdout",
     "output_type": "stream",
     "text": [
      "###\n",
      "Neighborhood: Allesley\n",
      "Price: $450,000\n",
      "Bedrooms: 3\n",
      "Bathrooms: 2\n",
      "House Size: 2,000 sqft\n",
      "Description: Beautiful 3-bedroom home in the picturesque neighborhood of Allesley. This property boasts a modern kitchen, spacious living areas, and a landscaped garden. With nearby schools, parks, and amenities, this home offers a peaceful and convenient lifestyle in Coventry.\n",
      "Neighborhood Description: Allesley is a charming area known for its scenic views, historic architecture, and community events. Residents enjoy easy access to local shops, restaurants, and green spaces, making it an ideal location for those seeking a tranquil setting with urban conveniences.\n",
      "###\n"
     ]
    }
   ],
   "source": [
    "#Test Query \n",
    "query = \"easy access to schools, parks, and shopping centers\"\n",
    "docs = db.similarity_search(query)\n",
    "print(docs[0].page_content)"
   ]
  },
  {
   "cell_type": "markdown",
   "id": "7c3181eb",
   "metadata": {},
   "source": [
    "# Step 4: Building the User Preference Interface\n",
    "Collect buyer preferences, such as the number of bedrooms, bathrooms, location, and other specific requirements from a set of questions or telling the buyer to enter their preferences in natural language. \n",
    "You can hard-code the buyer preferences in questions and answers, or collect them interactively however you'd like, example:\n",
    "```\n",
    "    questions = [   \n",
    "                    \"How big do you want your house to be?\" \n",
    "                    \"What are 3 most important things for you in choosing this property?\", \n",
    "                    \"Which amenities would you like?\", \n",
    "                    \"Which transportation options are important to you?\",\n",
    "                    \"How urban do you want your neighborhood to be?\",   \n",
    "                ]\n",
    "    answers = [\n",
    "        \"A comfortable three-bedroom house with a spacious kitchen and a cozy living room.\",\n",
    "        \"A quiet neighborhood, good local schools, and convenient shopping options.\",\n",
    "        \"A backyard for gardening, a two-car garage, and a modern, energy-efficient heating system.\",\n",
    "        \"Easy access to a reliable bus line, proximity to a major highway, and bike-friendly roads.\",\n",
    "        \"A balance between suburban tranquility and access to urban amenities like restaurants and theaters.\"\n",
    "```"
   ]
  },
  {
   "cell_type": "code",
   "execution_count": 12,
   "id": "2769488c",
   "metadata": {},
   "outputs": [
    {
     "name": "stdout",
     "output_type": "stream",
     "text": [
      "content='Which amenities would you like?'\n",
      "content='A quiet neighborhood, good local schools, and convenient shopping options.'\n"
     ]
    }
   ],
   "source": [
    "questions = [   \n",
    "                \"How big do you want your house to be?\" \n",
    "                \"What are 3 most important things for you in choosing this property?\", \n",
    "                \"Which amenities would you like?\", \n",
    "                \"Which transportation options are important to you?\",\n",
    "                \"How urban do you want your neighborhood to be?\",   \n",
    "            ]\n",
    "answers = [\n",
    "    \"A comfortable three-bedroom house with a spacious kitchen and a cozy living room.\",\n",
    "    \"A quiet neighborhood, good local schools, and convenient shopping options.\",\n",
    "    \"A backyard for gardening, a two-car garage, and a modern, energy-efficient heating system.\",\n",
    "    \"Easy access to a reliable bus line, proximity to a major highway, and bike-friendly roads.\",\n",
    "    \"A balance between suburban tranquility and access to urban amenities like restaurants and theaters.\"]\n",
    "\n",
    "for q,a in zip(questions,answers):\n",
    "    chat_history.add_ai_message(q)\n",
    "    chat_history.add_user_message(a)\n",
    "\n",
    "print(chat_history.messages[4])\n",
    "print(chat_history.messages[5])\n"
   ]
  },
  {
   "cell_type": "markdown",
   "id": "93e91076",
   "metadata": {},
   "source": [
    "# Step 5: Searching Based on Preferences\n",
    "- [ ] Semantic Search Implementation: Use the structured buyer preferences to perform a semantic search on the vector database, retrieving listings that most closely match the user's requirements.\n",
    "- [ ] Listing Retrieval Logic: Fine-tune the retrieval algorithm to ensure that the most relevant listings are selected based on the semantic closeness to the buyer’s preferences."
   ]
  },
  {
   "cell_type": "markdown",
   "id": "de98ffdc",
   "metadata": {},
   "source": [
    "# Step 6: Personalizing Listing Descriptions\n",
    "- [ ] LLM Augmentation: For each retrieved listing, use the LLM to augment the description, tailoring it to resonate with the buyer’s specific preferences. This involves subtly emphasizing aspects of the property that align with what the buyer is looking for.\n",
    "- [ ] Maintaining Factual Integrity: Ensure that the augmentation process enhances the appeal of the listing without altering factual information.\n"
   ]
  },
  {
   "cell_type": "markdown",
   "id": "4bee306b",
   "metadata": {},
   "source": [
    "# Step 7: Deliverables and Testing\n",
    "- [ ] Test your \"HomeMatch\" application and make sure it meets all of the requirements in the rubric(opens in a new tab). Your project code will be run when it's assessed. Enter different \"buyer preferences\" and ensure it works.\n",
    "- [ ] Jupyter Notebook/Python Program: Compile the application code in a Jupyter notebook or a standalone Python program. Ensure the code is well-commented and logically structured.\n",
    "- [ ] Example Outputs: Include example outputs showcasing how user preferences are processed and how the application generates personalized listing descriptions. You can include these in comments in your application or in a Jupyter notebook that's saved with outputs."
   ]
  },
  {
   "cell_type": "markdown",
   "id": "f8f05d0b",
   "metadata": {},
   "source": [
    "# Step 8: Project Submission\n",
    "- [ ] Generated Listings: Include a file that contains your synthetically generated real estate listings. Name this file \"listings\"\n",
    "- [ ] Project Documentation: Include a readme file or an accompanying document explaining the functionality, how to run the code, and any prerequisites or dependencies.\n",
    "- [ ] Code Submission: Submit the Jupyter Notebook or Python program on the \"Project Submission Page\" that follows the workspace page."
   ]
  },
  {
   "cell_type": "markdown",
   "id": "c663dcff",
   "metadata": {},
   "source": []
  },
  {
   "cell_type": "markdown",
   "id": "b29e05e7",
   "metadata": {},
   "source": []
  }
 ],
 "metadata": {
  "kernelspec": {
   "display_name": "Python 3 (ipykernel)",
   "language": "python",
   "name": "python3"
  },
  "language_info": {
   "codemirror_mode": {
    "name": "ipython",
    "version": 3
   },
   "file_extension": ".py",
   "mimetype": "text/x-python",
   "name": "python",
   "nbconvert_exporter": "python",
   "pygments_lexer": "ipython3",
   "version": "3.11.7"
  }
 },
 "nbformat": 4,
 "nbformat_minor": 5
}
